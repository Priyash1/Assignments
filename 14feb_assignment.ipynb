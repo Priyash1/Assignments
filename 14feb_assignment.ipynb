{
 "cells": [
  {
   "cell_type": "markdown",
   "id": "a086c970-48fc-46b9-aa9e-eac46813faa2",
   "metadata": {},
   "source": [
    "#1 What is multithreading in python ?Why it is used? name the module used to handle threads in python."
   ]
  },
  {
   "cell_type": "markdown",
   "id": "9230d6c5-c547-40df-9979-ee7459a7946a",
   "metadata": {},
   "source": [
    "A thread is a unit of execution within a process. Multithreading refers to concurrently executing multiple threads by rapidly switching the control of the CPU between threads (called context switching). Multithreading in Python streamlines the efficient utilization of resources as the threads share the same memory and data space. It also allows the concurrent appearance of multiple tasks and reduces the response time. This improves the performance.Threading module is used to handle threads in python."
   ]
  },
  {
   "cell_type": "markdown",
   "id": "d3df364e-d57a-4618-b508-9fbc30b9e501",
   "metadata": {},
   "source": [
    "#2 Why threading module is used?Write the use of the following functions:\n",
    "1.activeCount()\n",
    "2.currentThread()\n",
    "3.enumerate()"
   ]
  },
  {
   "cell_type": "markdown",
   "id": "7503021b-2b8f-4af2-8642-329eaecdf9d2",
   "metadata": {},
   "source": [
    "Threading module in python provides us classes and methods to create and start threads in python for implementing multithreading.Threading.activeCount() − Returns the number of thread objects that are active.\n",
    "threading.currentThread() − Returns the number of thread objects in the caller's thread control.\n",
    "threading.enumerate() − Returns a list of all thread objects that are currently active.\n"
   ]
  },
  {
   "cell_type": "markdown",
   "id": "a62060f9-d3d4-4fdd-a92b-f14453ac3b18",
   "metadata": {},
   "source": [
    "#3.Explain the following functions:\n",
    "    1.run()\n",
    "    2.start()\n",
    "    3.join()\n",
    "    4.isAlive()"
   ]
  },
  {
   "cell_type": "markdown",
   "id": "fbf28a94-1939-4c22-ac33-a4c543866837",
   "metadata": {},
   "source": [
    "1.Thread.run() method is an inbuilt method of the Thread class of the threading module in Python. This method is used to represent a thread's activity. It calls the method expressed as the target argument in the Thread object along with the positional and keyword arguments taken from the args and kwargs arguments, respectively. This method can also be overridden in the subclass.\n",
    "2.Thread.run() method is an inbuilt method of the Thread class of the threading module in Python. This method is used to represent a thread's activity. It calls the method expressed as the target argument in the Thread object along with the positional and keyword arguments taken from the args and kwargs arguments, respectively. This method can also be overridden in the subclass.\n",
    "3.Thread.join() method is an inbuilt method of the Thread class of the threading module in Python. Whenever this method is called for any Thread object, it blocks the calling thread till the time the thread whose join() method is called terminates, either normally or through an unhandled exception.\n",
    "4.Thread.is_alive() method is an inbuilt method of the Thread class of the threading module in Python. It uses a Thread object, and checks whether that thread is alive or not, ie, it is still running or not. This method returns True before the run() starts until just after the run() method is executed."
   ]
  },
  {
   "cell_type": "markdown",
   "id": "47733805-6641-4bdf-9cee-ec2a7569cc51",
   "metadata": {},
   "source": [
    "#4.State advantages and disadvantages of multithreading."
   ]
  },
  {
   "cell_type": "markdown",
   "id": "39994c92-60c3-40e6-8a5b-6a8b2d37ddac",
   "metadata": {},
   "source": [
    "Following are some of the common advantages of multithreading:\n",
    "\n",
    "1.Enhanced performance by decreased development time\n",
    "2.Simplified and streamlined program coding\n",
    "3.Improvised GUI responsiveness\n",
    "4.Simultaneous and parallelized occurrence of tasks\n",
    "5.Better use of cache storage by utilization of resources\n",
    "6.Decreased cost of maintenance\n",
    "7.Better use of CPU resource\n",
    "Multithreading does not only provide you with benefits, it has its disadvantages too. Let us go through some common disadvantages:\n",
    "\n",
    "1.Complex debugging and testing processes\n",
    "2.Overhead switching of context\n",
    "3.Increased potential for deadlock occurrence\n",
    "4.Increased difficulty level in writing a program\n",
    "5.Unpredictable results"
   ]
  },
  {
   "cell_type": "markdown",
   "id": "fb50a5df-82cd-49ec-99ac-bc7547343c00",
   "metadata": {},
   "source": [
    "#5. Explain race condition and deadlock"
   ]
  },
  {
   "cell_type": "markdown",
   "id": "4a9ef3f0-3cc6-4fdf-ab66-96a888b6688f",
   "metadata": {},
   "source": [
    "A race condition exists when the success of your program depends on the uncontrolled order of completion of two independent threads.\n",
    "\n",
    "Suppose, for example, that you have two threads—one is responsible for opening a file and the other is responsible for writing to the file. It is important that you control the second thread so that it’s assured that the first thread has opened the file. If not, under some conditions the first thread will open the file, and the second thread will work fine; under other unpredictable conditions, the first thread won’t finish opening the file before the second thread tries to write to it, and you’ll throw an exception (or worse, your program will simply seize up and die). This is a race condition, and race conditions can be very difficult to debug.\n",
    "A deadlock occurs when two threads each lock a different variable at the same time and then try to lock the variable that the other thread already locked. As a result, each thread stops executing and waits for the other thread to release the variable. Because each thread is holding the variable that the other thread wants, nothing occurs, and the threads remain deadlocked."
   ]
  },
  {
   "cell_type": "markdown",
   "id": "39dc3b0e-af6f-4077-bee2-228852bfe620",
   "metadata": {},
   "source": [
    "Write a python program to create two threads.Thread one must print  the list of squares and thread two must print the list of cubes."
   ]
  },
  {
   "cell_type": "code",
   "execution_count": 1,
   "id": "da67d40e-794a-40dc-aafe-af41ecc2acf4",
   "metadata": {},
   "outputs": [
    {
     "name": "stdout",
     "output_type": "stream",
     "text": [
      "1^2=1\n",
      "2^2=4\n",
      "3^2=9\n",
      "4^2=16\n",
      "5^2=25\n",
      "6^2=36\n",
      "7^2=49\n",
      "8^2=64\n",
      "9^2=81\n",
      "10^2=100\n",
      "1^3=1\n",
      "2^3=8\n",
      "3^3=27\n",
      "4^3=64\n",
      "5^3=125\n",
      "6^3=216\n",
      "7^3=343\n",
      "8^3=512\n",
      "9^3=729\n",
      "10^3=1000\n"
     ]
    }
   ],
   "source": [
    "import threading\n",
    "def print_squares():\n",
    "    for i in range(1,11):\n",
    "        print(f\"{i}^2={i*i}\")\n",
    "        \n",
    "def print_cubes():\n",
    "    for i in range(1,11):\n",
    "        print(f\"{i}^3={i*i*i}\")\n",
    "if __name__==\"__main__\":\n",
    "    t1=threading.Thread(target=print_squares)\n",
    "    t2=threading.Thread(target=print_cubes)\n",
    "    \n",
    "    t1.start()\n",
    "    t2.start()\n",
    "    t1.join()\n",
    "    t2.join()"
   ]
  },
  {
   "cell_type": "code",
   "execution_count": null,
   "id": "41ee8637-01fd-423e-a28c-905e690bbfaa",
   "metadata": {},
   "outputs": [],
   "source": []
  }
 ],
 "metadata": {
  "kernelspec": {
   "display_name": "Python 3 (ipykernel)",
   "language": "python",
   "name": "python3"
  },
  "language_info": {
   "codemirror_mode": {
    "name": "ipython",
    "version": 3
   },
   "file_extension": ".py",
   "mimetype": "text/x-python",
   "name": "python",
   "nbconvert_exporter": "python",
   "pygments_lexer": "ipython3",
   "version": "3.10.8"
  }
 },
 "nbformat": 4,
 "nbformat_minor": 5
}
