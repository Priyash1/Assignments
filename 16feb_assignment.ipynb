{
 "cells": [
  {
   "cell_type": "markdown",
   "id": "eaf8088b-844b-461f-b168-8ea00da3a0d1",
   "metadata": {},
   "source": [
    "# What is a database? Differentiate between sql and nosql databases."
   ]
  },
  {
   "cell_type": "markdown",
   "id": "e7efee12-9863-4eba-9f19-01c310fa1057",
   "metadata": {},
   "source": [
    "A database is an organized collection of structured information, or data, typically stored electronically in a computer system. A database is usually controlled by a database management system (DBMS).\n",
    "differences----\n",
    "Type – \n",
    "SQL databases are primarily called as Relational Databases (RDBMS); whereas NoSQL database are primarily called as non-relational or distributed database. \n",
    "Language-\n",
    "SQL databases defines and manipulates data based structured query language (SQL). Seeing from a side this language is extremely powerful. SQL is one of the most versatile and widely-used options available which makes it a safe choice especially for great complex queries. But from other side it can be restrictive. SQL requires you to use predefined schemas to determine the structure of your data before you work with it. Also all of your data must follow the same structure. This can require significant up-front preparation which means that a change in the structure would be both difficult and disruptive to your whole system. \n",
    "A NoSQL database has dynamic schema for unstructured data. Data is stored in many ways which means it can be document-oriented, column-oriented, graph-based or organized as a KeyValue store. This flexibility means that documents can be created without having defined structure first. Also each document can have its own unique structure. The syntax varies from database to database, and you can add fields as you go. \n",
    "Scalability – \n",
    "In almost all situations SQL databases are vertically scalable. This means that you can increase the load on a single server by increasing things like RAM, CPU or SSD. But on the other hand NoSQL databases are horizontally scalable. This means that you handle more traffic by sharding, or adding more servers in your NoSQL database. It is similar to adding more floors to the same building versus adding more buildings to the neighborhood. Thus NoSQL can ultimately become larger and more powerful, making these databases the preferred choice for large or ever-changing data sets.\n",
    "Structure – \n",
    "SQL databases are table-based on the other hand NoSQL databases are either key-value pairs, document-based, graph databases or wide-column stores. This makes relational SQL databases a better option for applications that require multi-row transactions such as an accounting system or for legacy systems that were built for a relational structure. \n",
    "Property followed – \n",
    "SQL databases follow ACID properties (Atomicity, Consistency, Isolation and Durability) whereas the NoSQL database follows the Brewers CAP theorem (Consistency, Availability and Partition tolerance). \n",
    "Support – \n",
    "Great support is available for all SQL database from their vendors. Also a lot of independent consultations are there who can help you with SQL database for a very large scale deployments but for some NoSQL database you still have to rely on community support and only limited outside experts are available for setting up and deploying your large scale NoSQL deployments. \n",
    " "
   ]
  },
  {
   "cell_type": "markdown",
   "id": "5300ed45-74a5-4877-b469-203ead3957db",
   "metadata": {},
   "source": [
    "# What is DDL? Explain why CREATE, DROP, ALTER and TRUNCATE are used with an example "
   ]
  },
  {
   "cell_type": "markdown",
   "id": "a91bfcd1-14eb-487f-ba5b-f3f62a9f4f7d",
   "metadata": {},
   "source": [
    "Data definition language (DDL) describes the portion of SQL that creates, alters, and deletes database objects. These database objects include schemas, tables, views, sequences, catalogs, indexes, variables, masks, permissions, and aliases. Creating a schema.\n",
    "CREATE--SQL CREATE command is a type of DDL Command and is among the commands which is primarily used for creating databases and tables. The CREATE command has a particular syntax which needs to be followed In order to create databases or tables with desired structure.\n",
    "syntax-CREATE DATABASE DATABASE_NAME\n",
    "DROP--The DROP command in SQL is used to drop entities such as databases, tables, columns, indexes, constraints, etc. When an entity is dropped, all its related information (data and metadata) will be deleted. For example, all related information, such as data, index, constraints, etc., will be deleted when a table is dropped.\n",
    "syntax-DROP DATABASE <database name>\n",
    "    DROP TABLE <table_name>\n",
    "ALTER--The ALTER command in SQL is used to make changes to a table, view, or the entire database. We can add, modify, and drop constraints, columns, and indexes using the ALTER command in SQL. \n",
    "Suppose you have a table named \"employees\" in your database, and you want to add a new column called \"department\" to this table. You can do this by running the following command in your SQL client:\n",
    "\n",
    "ALTER TABLE employees ADD COLUMN department VARCHAR(50);\n",
    "In this command, the ALTER TABLE clause specifies that you want to modify the \"employees\" table, and the ADD COLUMN clause indicates that you want to add a new column to the table. The department argument specifies the name of the new column, and VARCHAR(50) specifies the data type and maximum length of the column.\n",
    "\n",
    "After running this command, a new column called \"department\" will have been added to the \"employees\" table. You can then use the UPDATE command to populate this new column with data for each employee.\n",
    "\n",
    "Note that there are many other modifications that can be made using the ALTER command, such as renaming a table or column, adding or removing constraints, and changing the data type of a column. The exact syntax of the ALTER command will depend on the specific modification that you want to make.\n",
    "    \n",
    "TRUNCATE--In SQL, the TRUNCATE command is used to delete all the rows from a table quickly, without logging the individual row deletions. This can be much faster than using the DELETE command to remove all the rows from a table because it doesn't generate as much database overhead.\n",
    "\n",
    "Here's an example of how to use the TRUNCATE command in SQL:\n",
    "\n",
    "Suppose you have a table named \"mytable\" in your database, and you want to delete all the rows from this table quickly without logging the individual deletions. You can do this by running the following command in your SQL client:\n",
    "\n",
    "TRUNCATE TABLE mytable;\n",
    "In this command, the TRUNCATE TABLE clause specifies that you want to truncate the table, and the mytable argument specifies the name of the table that you want to truncate.\n",
    "\n",
    "After running this command, all the rows in the \"mytable\" table will have been deleted. Note that the TRUNCATE command does not remove the table itself, just the data in the table. Also, it is important to note that the TRUNCATE command cannot be rolled back, so use it with caution.\n",
    "  \n",
    "    "
   ]
  },
  {
   "cell_type": "markdown",
   "id": "e31c8029-8c85-4182-9e3c-a496d70d33fb",
   "metadata": {},
   "source": [
    "# What is dml? Explain INSERT, UPDATE, and DELETE with an example."
   ]
  },
  {
   "cell_type": "markdown",
   "id": "0891cf32-1383-47c5-9204-1c7af8b7075a",
   "metadata": {},
   "source": [
    "DML stands for Data Manipulation Language, and it is a subset of SQL used to modify data stored in a database. DML commands include INSERT, UPDATE, and DELETE.\n",
    "\n",
    "Here's an explanation of each command with an example:\n",
    "\n",
    "INSERT: This command is used to add new rows to a table. Here's an example:\n",
    "Suppose you have a table named \"employees\" with columns \"id\", \"name\", and \"salary\", and you want to add a new employee to the table. You can do this by running the following command:\n",
    "\n",
    "\n",
    "INSERT INTO employees (id, name, salary) VALUES (1, 'John Smith', 50000);\n",
    "In this command, the INSERT INTO clause specifies the name of the table that you want to add data to, and the (id, name, salary) clause specifies the names of the columns that you want to insert data into. The VALUES clause specifies the actual data that you want to insert into the table.\n",
    "\n",
    "UPDATE: This command is used to modify existing rows in a table. Here's an example:\n",
    "Suppose you want to give John Smith a raise to $60,000 per year. You can do this by running the following command:\n",
    "\n",
    "UPDATE employees SET salary = 60000 WHERE name = 'John Smith';\n",
    "In this command, the UPDATE clause specifies the name of the table that you want to update. The SET clause specifies the column that you want to update and the new value that you want to set it to. The WHERE clause specifies the condition that must be met for the update to be applied, in this case that the name of the employee must be \"John Smith\".\n",
    "\n",
    "DELETE: This command is used to remove rows from a table. Here's an example:\n",
    "Suppose John Smith decides to leave the company, and you need to remove his record from the \"employees\" table. You can do this by running the following command:\n",
    "\n",
    "\n",
    "DELETE FROM employees WHERE name = 'John Smith';\n",
    "In this command, the DELETE FROM clause specifies the name of the table that you want to delete rows from. The WHERE clause specifies the condition that must be met for the row to be deleted, in this case that the name of the employee must be \"John Smith\". After running this command, John Smith's record will have been removed from the \"employees\" table.\n"
   ]
  },
  {
   "cell_type": "markdown",
   "id": "b6fb1b89-07de-498e-88b0-29919858c6ca",
   "metadata": {},
   "source": [
    "# What is DQL? explain SELECT with an example."
   ]
  },
  {
   "cell_type": "markdown",
   "id": "30ec0c8e-a9a0-467e-8981-7e4cb612ccb2",
   "metadata": {},
   "source": [
    "DQL stands for Data Query Language, and it is a subset of SQL (Structured Query Language) used to retrieve data from a database. DQL commands, such as SELECT, are used to retrieve data from a database.\n",
    "\n",
    "SELECT is one of the most commonly used DQL commands, and it is used to retrieve data from one or more tables in a database. The basic syntax for SELECT is as follows:\n",
    "\n",
    "SELECT column1, column2, ..., columnN\n",
    "FROM table_name;\n",
    "Here, \"column1\" through \"columnN\" are the names of the columns in the table that you want to retrieve data from. If you want to retrieve data from all columns in the table, you can use the \"*\" wildcard instead of column names.\n",
    "\n",
    "For example, suppose you have a table called \"customers\" with the following columns: \"id\", \"name\", \"email\", and \"phone\". To retrieve all data from this table, you can use the following SELECT statement:\n",
    "\n",
    "SELECT * FROM customers;\n",
    "This will return all rows and columns from the \"customers\" table.\n",
    "\n",
    "If you want to retrieve specific columns from the \"customers\" table, you can specify them in the SELECT statement like this:\n",
    "\n",
    "SELECT name, email FROM customers;\n",
    "This will return only the \"name\" and \"email\" columns from the \"customers\" table.\n",
    "\n",
    "\n",
    "\n"
   ]
  },
  {
   "cell_type": "markdown",
   "id": "24816afa-8de6-48e3-8da4-b9777ca7ef22",
   "metadata": {},
   "source": [
    "# Explain primary key and foreign key."
   ]
  },
  {
   "cell_type": "markdown",
   "id": "a96de674-e9ad-40ab-b34a-5ae7c8fa6864",
   "metadata": {},
   "source": [
    "Primary key and foreign key are two important concepts in relational databases that are used to establish relationships between tables.\n",
    "\n",
    "A primary key is a column or a combination of columns in a table that uniquely identifies each row or record in the table. The primary key is used to enforce data integrity and ensure that each row in the table is unique. It is also used as a reference in other tables to establish relationships.\n",
    "\n",
    "For example, in a table of customers, the primary key might be the \"customer_id\" column. Each row in the table would have a unique customer_id, which would serve as a reference for other tables that have a relationship with the customers table.\n",
    "\n",
    "A foreign key is a column or a combination of columns in a table that refers to the primary key of another table. It is used to establish a relationship between two tables. The foreign key is used to ensure that the data between the two tables is consistent and to maintain data integrity.\n",
    "\n",
    "For example, suppose you have two tables: \"customers\" and \"orders\". The customers table has a primary key of \"customer_id\", and the orders table has a foreign key of \"customer_id\" that refers to the primary key of the customers table. This establishes a relationship between the two tables, where each order is associated with a specific customer in the customers table.\n",
    "\n",
    "In summary, a primary key is used to uniquely identify each row in a table, while a foreign key is used to establish a relationship between two tables by referring to the primary key of another table.\n"
   ]
  },
  {
   "cell_type": "markdown",
   "id": "1ca2d29b-02eb-49b0-a322-7e30e4e0bc8b",
   "metadata": {},
   "source": [
    "# Write a python code to connect MySQL to python.Explain the cursor() and execute() method"
   ]
  },
  {
   "cell_type": "markdown",
   "id": "19308952-a584-419a-99f6-6a4352bf8b1a",
   "metadata": {},
   "source": [
    "\n",
    "Sure, here's an example Python code to connect to MySQL database and execute a SQL query using cursor() and execute() methods:\n",
    "\n",
    "import mysql.connector\n",
    "\n",
    "# establish database connection\n",
    "mydb = mysql.connector.connect(\n",
    "  host=\"localhost\",\n",
    "  user=\"username\",\n",
    "  password=\"password\",\n",
    "  database=\"databasename\"\n",
    ")\n",
    "\n",
    "# create cursor object to execute SQL queries\n",
    "mycursor = mydb.cursor()\n",
    "\n",
    "# execute SQL query\n",
    "mycursor.execute(\"SELECT * FROM tablename\")\n",
    "\n",
    "# fetch results of executed query\n",
    "myresult = mycursor.fetchall()\n",
    "\n",
    "# print results\n",
    "for x in myresult:\n",
    "  print(x)\n",
    "  \n",
    "Explanation:\n",
    "\n",
    "We first import the mysql.connector module to use its methods to connect to the database.\n",
    "We use the connect() method to establish a connection to the MySQL server. We pass in the required parameters such as the host name, username, password, and database name.\n",
    "We create a cursor object using cursor() method. This method returns a new cursor object which can be used to execute SQL queries and fetch results.\n",
    "We use the execute() method on the cursor object to execute the SQL query passed as an argument to the method.\n",
    "We use the fetchall() method to retrieve all the rows of the result set returned by the SQL query.\n",
    "Finally, we print the results using a for loop.\n",
    "The cursor() method creates a new cursor object that can execute SQL queries and fetch results. Cursors are used to manage the context of a database session, such as the current state of the result set and the current transaction state. The cursor is created on the database connection, and can be used to execute any SQL statement.\n",
    "\n",
    "The execute() method is used to execute SQL statements. It takes an SQL query as a parameter, and returns None. The method can be used to execute any SQL statement, including SELECT, INSERT, UPDATE, and DELETE. The method returns the number of rows affected by the SQL statement.\n",
    "\n",
    "In the example code above, we used the execute() method to execute a SELECT statement and the fetchall() method to retrieve all the rows of the result set.\n"
   ]
  },
  {
   "cell_type": "markdown",
   "id": "dd45781b-79fc-4d68-b8e4-81880c915028",
   "metadata": {},
   "source": [
    "# Give the order of execution of SQL clauses in an SQL query."
   ]
  },
  {
   "cell_type": "markdown",
   "id": "e3f3dfde-ae55-47a6-ba0e-e19dfebf4274",
   "metadata": {},
   "source": [
    "The order of execution of SQL clauses in an SQL query is as follows:\n",
    "\n",
    "FROM clause: The FROM clause is executed first in an SQL query. It specifies the table(s) from which the data is to be retrieved.\n",
    "\n",
    "WHERE clause: The WHERE clause is executed after the FROM clause. It is used to filter the data retrieved from the specified table(s), based on one or more conditions.\n",
    "\n",
    "GROUP BY clause: The GROUP BY clause is executed after the WHERE clause. It is used to group the data retrieved from the specified table(s) based on one or more columns.\n",
    "\n",
    "HAVING clause: The HAVING clause is executed after the GROUP BY clause. It is used to filter the data retrieved from the specified table(s), based on one or more conditions that are applied to the groups created by the GROUP BY clause.\n",
    "\n",
    "SELECT clause: The SELECT clause is executed after the HAVING clause. It is used to specify the columns that are to be included in the result set.\n",
    "\n",
    "ORDER BY clause: The ORDER BY clause is executed after the SELECT clause. It is used to sort the result set based on one or more columns, in ascending or descending order.\n",
    "\n",
    "LIMIT clause: The LIMIT clause is executed last in an SQL query. It is used to limit the number of rows returned by the query.\n",
    "\n",
    "Note that some SQL statements may not include all of these clauses, or may include them in a different order depending on the specific requirements of the query. However, this is the general order in which the clauses are executed in a typical SQL query.\n"
   ]
  }
 ],
 "metadata": {
  "kernelspec": {
   "display_name": "Python 3 (ipykernel)",
   "language": "python",
   "name": "python3"
  },
  "language_info": {
   "codemirror_mode": {
    "name": "ipython",
    "version": 3
   },
   "file_extension": ".py",
   "mimetype": "text/x-python",
   "name": "python",
   "nbconvert_exporter": "python",
   "pygments_lexer": "ipython3",
   "version": "3.10.8"
  }
 },
 "nbformat": 4,
 "nbformat_minor": 5
}
