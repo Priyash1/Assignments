{
 "cells": [
  {
   "cell_type": "markdown",
   "id": "bd79e5b8-73e4-403f-8065-5dcb3bd731e8",
   "metadata": {},
   "source": [
    "#1 What is an exception? what is the difference between exception and syntax error?"
   ]
  },
  {
   "cell_type": "markdown",
   "id": "225a821d-147c-4fd2-a5c9-5f2197aced97",
   "metadata": {},
   "source": [
    "An exception is an unexcepted event that occurs during program execution.\n",
    "for example,\n",
    "a=7/0\n",
    "a syntax error is a mistake in the structure of the program that prevents it from running, while an exception is an abnormal event that occurs during the execution of the program and can be handled to allow program to continue runnning."
   ]
  },
  {
   "cell_type": "markdown",
   "id": "54547c86-8c6a-495d-8c44-f65f8d04f173",
   "metadata": {},
   "source": [
    "#2 What happens when an exception is not handled in a program? explain with an example."
   ]
  },
  {
   "cell_type": "markdown",
   "id": "922f7ed0-c9df-4a25-a385-92448173da96",
   "metadata": {},
   "source": [
    "When an exception occurred, if you don't handle it, the program terminates abruptly and the code past the line that caused the exception will not get executed.\n",
    "for ex- \n"
   ]
  },
  {
   "cell_type": "code",
   "execution_count": 5,
   "id": "7ae79056-5898-43d9-8857-349f3b0925eb",
   "metadata": {},
   "outputs": [
    {
     "name": "stdout",
     "output_type": "stream",
     "text": [
      "0.0\n"
     ]
    }
   ],
   "source": [
    "a = 10\n",
    "b = 0\n",
    "c = b/a\n",
    "print(c)\n"
   ]
  },
  {
   "cell_type": "markdown",
   "id": "64bde5f8-5b5c-42f3-9b13-dc5bac156947",
   "metadata": {},
   "source": [
    "as you can see in the above example the output is incorrect because we did not use exception handling our program is giving the wrong output."
   ]
  },
  {
   "cell_type": "markdown",
   "id": "7d9348dc-790b-424e-ac62-543788b18a2c",
   "metadata": {},
   "source": [
    "#3 Which python statements are used to catch and handle exceptions? "
   ]
  },
  {
   "cell_type": "markdown",
   "id": "22a051ca-ed33-40cd-971a-38e1a0fd5fde",
   "metadata": {},
   "source": [
    "The try and except block in Python is used to catch and handle exceptions. Python executes code following the try statement as a “normal” part of the program. The code that follows the except statement is the program’s response to any exceptions in the preceding try clause.\n",
    "\n"
   ]
  },
  {
   "cell_type": "code",
   "execution_count": 8,
   "id": "8079d1b9-4826-4985-b172-905e06841ee8",
   "metadata": {},
   "outputs": [
    {
     "name": "stdout",
     "output_type": "stream",
     "text": [
      "Error: Denominator cannot be 0.\n"
     ]
    }
   ],
   "source": [
    "try:\n",
    "    numerator = 10\n",
    "    denominator = 0\n",
    "\n",
    "    result = numerator/denominator\n",
    "\n",
    "    print(result)\n",
    "except:\n",
    "    print(\"Error: Denominator cannot be 0.\")\n",
    "\n",
    "# Output: Error: Denominator cannot be 0. "
   ]
  },
  {
   "cell_type": "markdown",
   "id": "1f94ff31-bca3-4d2a-8b0d-07ca96ddfd46",
   "metadata": {},
   "source": [
    "#4 Explain with an example:\n",
    "\n",
    "a. try and else\n",
    "b. finally\n",
    "c. raise"
   ]
  },
  {
   "cell_type": "markdown",
   "id": "417919ff-3741-43d1-bfe2-796ef6f52df1",
   "metadata": {},
   "source": [
    "a.try and else\n",
    " when there is no error in the block of code the else block gets executed instead of except."
   ]
  },
  {
   "cell_type": "code",
   "execution_count": 9,
   "id": "e353f645-8731-4797-b528-ed05438273bc",
   "metadata": {},
   "outputs": [
    {
     "name": "stdout",
     "output_type": "stream",
     "text": [
      "Hello\n",
      "Nothing went wrong\n"
     ]
    }
   ],
   "source": [
    "try:\n",
    "  print(\"Hello\")\n",
    "except:\n",
    "  print(\"Something went wrong\")\n",
    "else:\n",
    "  print(\"Nothing went wrong\")"
   ]
  },
  {
   "cell_type": "markdown",
   "id": "2e09113b-0174-444f-9f60-fee19348faae",
   "metadata": {},
   "source": [
    "b. finally: \n",
    "finally block will gets executed no matter there is error or not"
   ]
  },
  {
   "cell_type": "code",
   "execution_count": 11,
   "id": "3a7a1026-c4c4-4f31-98ee-c0174e533878",
   "metadata": {},
   "outputs": [
    {
     "name": "stdout",
     "output_type": "stream",
     "text": [
      "something went wrong\n",
      "finally executed\n"
     ]
    }
   ],
   "source": [
    "try:\n",
    "    print(d)\n",
    "except:\n",
    "    print(\"something went wrong\")\n",
    "finally:\n",
    "    print(\"finally executed\")"
   ]
  },
  {
   "cell_type": "markdown",
   "id": "aa4152af-af3b-422b-97df-4b54f989a01d",
   "metadata": {},
   "source": [
    "c.raise: Suppose you want to throw your own exception then you can use the raise statement \n"
   ]
  },
  {
   "cell_type": "code",
   "execution_count": 12,
   "id": "db6945aa-b50d-49a1-95d8-76046450288b",
   "metadata": {},
   "outputs": [
    {
     "ename": "Exception",
     "evalue": "Sorry, no numbers below zero",
     "output_type": "error",
     "traceback": [
      "\u001b[0;31m---------------------------------------------------------------------------\u001b[0m",
      "\u001b[0;31mException\u001b[0m                                 Traceback (most recent call last)",
      "Cell \u001b[0;32mIn[12], line 4\u001b[0m\n\u001b[1;32m      1\u001b[0m x \u001b[38;5;241m=\u001b[39m \u001b[38;5;241m-\u001b[39m\u001b[38;5;241m1\u001b[39m\n\u001b[1;32m      3\u001b[0m \u001b[38;5;28;01mif\u001b[39;00m x \u001b[38;5;241m<\u001b[39m \u001b[38;5;241m0\u001b[39m:\n\u001b[0;32m----> 4\u001b[0m   \u001b[38;5;28;01mraise\u001b[39;00m \u001b[38;5;167;01mException\u001b[39;00m(\u001b[38;5;124m\"\u001b[39m\u001b[38;5;124mSorry, no numbers below zero\u001b[39m\u001b[38;5;124m\"\u001b[39m)\n",
      "\u001b[0;31mException\u001b[0m: Sorry, no numbers below zero"
     ]
    }
   ],
   "source": [
    "x = -1\n",
    "\n",
    "if x < 0:\n",
    "  raise Exception(\"Sorry, no numbers below zero\")"
   ]
  },
  {
   "cell_type": "markdown",
   "id": "cdeae762-32c4-4022-9979-88f8fc76f1a8",
   "metadata": {},
   "source": [
    "#5 What are custom exceptions in python?why do we need custom exceptions?"
   ]
  },
  {
   "cell_type": "markdown",
   "id": "a0ffbc4e-f24a-42bb-a39e-4b4d52c181f8",
   "metadata": {},
   "source": [
    "Custom exceptions are basically user defined exceptions which are not already present in any python library or anywhere in python. We need custom exceptions because it increases the readability of our program and suppose you are making a project and you want to define your project related exceptions under a same class so thst you can code accordingly then you can use custom exceptions. for ex-"
   ]
  },
  {
   "cell_type": "code",
   "execution_count": 15,
   "id": "9d1c2be2-4a02-431d-b535-3d0ceb9bf4e7",
   "metadata": {},
   "outputs": [
    {
     "name": "stdin",
     "output_type": "stream",
     "text": [
      "Enter a number:  13\n"
     ]
    },
    {
     "name": "stdout",
     "output_type": "stream",
     "text": [
      "Exception occurred: Invalid Age\n"
     ]
    }
   ],
   "source": [
    "# define Python user-defined exceptions\n",
    "class InvalidAgeException(Exception):\n",
    "    \"Raised when the input value is less than 18\"\n",
    "    pass\n",
    "\n",
    "# you need to guess this number\n",
    "number = 18\n",
    "\n",
    "try:\n",
    "    input_num = int(input(\"Enter a number: \"))\n",
    "    if input_num < number:\n",
    "        raise InvalidAgeException\n",
    "    else:\n",
    "        print(\"Eligible to Vote\")\n",
    "        \n",
    "except InvalidAgeException:\n",
    "    print(\"Exception occurred: Invalid Age\")"
   ]
  },
  {
   "cell_type": "markdown",
   "id": "a994311b-2064-4d53-9df8-0fd7ab9bcb8d",
   "metadata": {},
   "source": [
    "#6 Create a custom exception class use this class to handle exceptions."
   ]
  },
  {
   "cell_type": "code",
   "execution_count": 16,
   "id": "296510df-370a-4374-bb91-b3622277f095",
   "metadata": {},
   "outputs": [
    {
     "name": "stdin",
     "output_type": "stream",
     "text": [
      "Enter salary amount:  2000\n"
     ]
    },
    {
     "ename": "SalaryNotInRangeError",
     "evalue": "Salary is not in (5000, 15000) range",
     "output_type": "error",
     "traceback": [
      "\u001b[0;31m---------------------------------------------------------------------------\u001b[0m",
      "\u001b[0;31mSalaryNotInRangeError\u001b[0m                     Traceback (most recent call last)",
      "Cell \u001b[0;32mIn[16], line 17\u001b[0m\n\u001b[1;32m     15\u001b[0m salary \u001b[38;5;241m=\u001b[39m \u001b[38;5;28mint\u001b[39m(\u001b[38;5;28minput\u001b[39m(\u001b[38;5;124m\"\u001b[39m\u001b[38;5;124mEnter salary amount: \u001b[39m\u001b[38;5;124m\"\u001b[39m))\n\u001b[1;32m     16\u001b[0m \u001b[38;5;28;01mif\u001b[39;00m \u001b[38;5;129;01mnot\u001b[39;00m \u001b[38;5;241m5000\u001b[39m \u001b[38;5;241m<\u001b[39m salary \u001b[38;5;241m<\u001b[39m \u001b[38;5;241m15000\u001b[39m:\n\u001b[0;32m---> 17\u001b[0m     \u001b[38;5;28;01mraise\u001b[39;00m SalaryNotInRangeError(salary)\n",
      "\u001b[0;31mSalaryNotInRangeError\u001b[0m: Salary is not in (5000, 15000) range"
     ]
    }
   ],
   "source": [
    "class SalaryNotInRangeError(Exception):\n",
    "    \"\"\"Exception raised for errors in the input salary.\n",
    "\n",
    "    Attributes:\n",
    "        salary -- input salary which caused the error\n",
    "        message -- explanation of the error\n",
    "    \"\"\"\n",
    "\n",
    "    def __init__(self, salary, message=\"Salary is not in (5000, 15000) range\"):\n",
    "        self.salary = salary\n",
    "        self.message = message\n",
    "        super().__init__(self.message)\n",
    "\n",
    "\n",
    "salary = int(input(\"Enter salary amount: \"))\n",
    "if not 5000 < salary < 15000:\n",
    "    raise SalaryNotInRangeError(salary)"
   ]
  },
  {
   "cell_type": "code",
   "execution_count": null,
   "id": "2e5fa324-f982-4e56-9eb3-e687e2ef8cc5",
   "metadata": {},
   "outputs": [],
   "source": []
  }
 ],
 "metadata": {
  "kernelspec": {
   "display_name": "Python 3 (ipykernel)",
   "language": "python",
   "name": "python3"
  },
  "language_info": {
   "codemirror_mode": {
    "name": "ipython",
    "version": 3
   },
   "file_extension": ".py",
   "mimetype": "text/x-python",
   "name": "python",
   "nbconvert_exporter": "python",
   "pygments_lexer": "ipython3",
   "version": "3.10.8"
  }
 },
 "nbformat": 4,
 "nbformat_minor": 5
}
