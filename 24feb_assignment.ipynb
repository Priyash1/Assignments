{
 "cells": [
  {
   "cell_type": "markdown",
   "id": "5432c0d4",
   "metadata": {},
   "source": [
    " 1. List any five functions of the pandas library with execution"
   ]
  },
  {
   "cell_type": "code",
   "execution_count": 1,
   "id": "13f2fe14",
   "metadata": {},
   "outputs": [
    {
     "ename": "SyntaxError",
     "evalue": "invalid decimal literal (2044734871.py, line 25)",
     "output_type": "error",
     "traceback": [
      "\u001b[1;36m  Cell \u001b[1;32mIn[1], line 25\u001b[1;36m\u001b[0m\n\u001b[1;33m    3.groupby(): This function is used to group data in a DataFrame based on one or more columns.\u001b[0m\n\u001b[1;37m     ^\u001b[0m\n\u001b[1;31mSyntaxError\u001b[0m\u001b[1;31m:\u001b[0m invalid decimal literal\n"
     ]
    }
   ],
   "source": [
    "\n",
    "Sure, here are five functions from the pandas library along with their execution examples:\n",
    "\n",
    "1. read_csv(): This function is used to read a CSV file and create a DataFrame.\n",
    "\n",
    "    \n",
    "import pandas as pd\n",
    "\n",
    "# Read a CSV file into a DataFrame\n",
    "df = pd.read_csv('data.csv')\n",
    "\n",
    "print(df.head())  # Display the first few rows of the DataFrame\n",
    "\n",
    "2. head(): This function is used to display the first few rows of a DataFrame.\n",
    "\n",
    "import pandas as pd\n",
    "\n",
    "data = {'Name': ['Alice', 'Bob', 'Charlie', 'David', 'Emily'],\n",
    "        'Age': [25, 30, 22, 28, 24]}\n",
    "\n",
    "df = pd.DataFrame(data)\n",
    "\n",
    "print(df.head())  # Display the first 5 rows of the DataFrame\n",
    "\n",
    "\n",
    "3.groupby(): This function is used to group data in a DataFrame based on one or more columns.\n",
    "\n",
    "    \n",
    "import pandas as pd\n",
    "\n",
    "data = {'Name': ['Alice', 'Bob', 'Charlie', 'David', 'Emily'],\n",
    "        'Department': ['HR', 'Finance', 'HR', 'IT', 'Finance'],\n",
    "        'Salary': [60000, 75000, 62000, 80000, 72000]}\n",
    "\n",
    "df = pd.DataFrame(data)\n",
    "\n",
    "grouped = df.groupby('Department')\n",
    "department_salary_mean = grouped['Salary'].mean()\n",
    "\n",
    "print(department_salary_mean)\n",
    "\n",
    "4. merge(): This function is used to merge two DataFrames based on a common column or index.\n",
    "\n",
    "    \n",
    "import pandas as pd\n",
    "\n",
    "data1 = {'ID': [1, 2, 3, 4],\n",
    "         'Name': ['Alice', 'Bob', 'Charlie', 'David']}\n",
    "\n",
    "data2 = {'ID': [2, 3, 4, 5],\n",
    "         'Age': [25, 30, 22, 28]}\n",
    "\n",
    "df1 = pd.DataFrame(data1)\n",
    "df2 = pd.DataFrame(data2)\n",
    "\n",
    "merged_df = pd.merge(df1, df2, on='ID')\n",
    "\n",
    "print(merged_df)\n",
    "\n",
    "\n",
    "5. pivot_table(): This function is used to create a pivot table from a DataFrame.\n",
    "\n",
    "import pandas as pd\n",
    "\n",
    "data = {'Name': ['Alice', 'Bob', 'Charlie', 'David', 'Emily'],\n",
    "        'Department': ['HR', 'Finance', 'HR', 'IT', 'Finance'],\n",
    "        'Salary': [60000, 75000, 62000, 80000, 72000]}\n",
    "\n",
    "df = pd.DataFrame(data)\n",
    "\n",
    "pivot_table = df.pivot_table(index='Department', values='Salary', aggfunc='mean')\n",
    "\n",
    "print(pivot_table)"
   ]
  },
  {
   "cell_type": "markdown",
   "id": "1df79566",
   "metadata": {},
   "source": [
    "2.  Given a Pandas DataFrame df with columns 'A', 'B', and 'C', write a Python function to re-index the \n",
    "DataFrame with a new index that starts from 1 and increments by 2 for each row"
   ]
  },
  {
   "cell_type": "code",
   "execution_count": null,
   "id": "30b8c08c",
   "metadata": {},
   "outputs": [],
   "source": [
    "import pandas as pd\n",
    "\n",
    "# Create a sample DataFrame\n",
    "data = {'A': [10, 20, 30],\n",
    "        'B': [40, 50, 60],\n",
    "        'C': [70, 80, 90]}\n",
    "df = pd.DataFrame(data)\n",
    "\n",
    "print(\"Original DataFrame:\")\n",
    "print(df)\n",
    "\n",
    "# Create a new index with desired pattern\n",
    "\n",
    "\n",
    "# Reindex the DataFrame using the new index\n",
    "reindexed_df = df.reindex(range(1,2*len(df)+1,2))\n",
    "\n",
    "print(\"\\nReindexed DataFrame:\")\n",
    "print(reindexed_df)\n"
   ]
  },
  {
   "cell_type": "markdown",
   "id": "1aa8b51f",
   "metadata": {},
   "source": [
    "3. You have a Pandas DataFrame df with a column named 'Values'. Write a Python function that \n",
    "iterates over the DataFrame and calculates the sum of the first three values in the 'Values' column. The \n",
    "function should print the sum to the console.\n",
    "\n",
    "For example, if the 'Values' column of df contains the values [10, 20, 30, 40, 50], your function should \n",
    "calculate and print the sum of the first three values, which is 60"
   ]
  },
  {
   "cell_type": "code",
   "execution_count": null,
   "id": "0aba4c9c",
   "metadata": {},
   "outputs": [],
   "source": [
    "import pandas as pd\n",
    "\n",
    "def calculate_sum_of_first_three(df):\n",
    "    values_column = df['Values']\n",
    "    sum_first_three = values_column.head(3).sum()\n",
    "    print(\"Sum of the first three values:\", sum_first_three)\n",
    "\n",
    "# Example usage\n",
    "data = {'Values': [12, 20, 30, 40, 50]}\n",
    "df = pd.DataFrame(data)\n",
    "calculate_sum_of_first_three(df)\n"
   ]
  },
  {
   "cell_type": "markdown",
   "id": "33ea8a4d",
   "metadata": {},
   "source": [
    "4.  Given a Pandas DataFrame df with a column 'Text', write a Python function to create a new column \n",
    "'Word_Count' that contains the number of words in each row of the 'Text' column"
   ]
  },
  {
   "cell_type": "code",
   "execution_count": null,
   "id": "483c418b",
   "metadata": {},
   "outputs": [],
   "source": [
    "import pandas as pd\n",
    "\n",
    "# Define a function to count words in a text\n",
    "def count_words(text):\n",
    "    words = text.split()  # Split the text into words\n",
    "    num_words = len(words)  # Count the number of words\n",
    "    return num_words\n",
    "\n",
    "# Create a DataFrame with a 'Text' column\n",
    "data = {'Text': [\"This is a sample text.\", \"Another example with more words.\", \"Short text.\"]}\n",
    "df = pd.DataFrame(data)\n",
    "\n",
    "# Apply the 'count_words' function to each row in the 'Text' column and create a new column 'Word_Count'\n",
    "df['Word_Count'] = df['Text'].apply(count_words)\n",
    "\n",
    "# Print the DataFrame\n",
    "print(df)\n"
   ]
  },
  {
   "cell_type": "markdown",
   "id": "f65f979c",
   "metadata": {},
   "source": [
    "5.  How are DataFrame.size() and DataFrame.shape() different?"
   ]
  },
  {
   "cell_type": "code",
   "execution_count": null,
   "id": "6528d370",
   "metadata": {},
   "outputs": [],
   "source": [
    "DataFrame.size and DataFrame.shape are both attributes in Pandas that provide information about the dimensions of a DataFrame, but they serve different purposes.\n",
    "\n",
    "DataFrame.size:\n",
    "DataFrame.size returns the total number of elements in the DataFrame, which is equivalent to the total number of cells in the DataFrame.\n",
    "It calculates the size by multiplying the number of rows (DataFrame.shape[0]) with the number of columns (DataFrame.shape[1]).\n",
    "It gives you the overall count of all values present in the DataFrame.\n",
    "Example:\n",
    "\n",
    "\n",
    "import pandas as pd\n",
    "\n",
    "data = {'A': [1, 2, 3], 'B': [4, 5, 6]}\n",
    "df = pd.DataFrame(data)\n",
    "size = df.size\n",
    "print(size)  # Output: 6 (2 rows * 3 columns = 6 elements)\n",
    "\n",
    "\n",
    "DataFrame.shape:\n",
    "DataFrame.shape returns a tuple representing the dimensions of the DataFrame. The tuple contains two values: the number of rows and the number of columns.\n",
    "It's a more commonly used attribute to quickly get an overview of the structure of the DataFrame.\n",
    "Example:\n",
    "\n",
    "\n",
    "    \n",
    "import pandas as pd\n",
    "\n",
    "data = {'A': [1, 2, 3], 'B': [4, 5, 6]}\n",
    "df = pd.DataFrame(data)\n",
    "shape = df.shape\n",
    "print(shape)  # Output: (3, 2) (3 rows, 2 columns)\n",
    "\n",
    "In summary, DataFrame.size gives you the total number of elements in the DataFrame, while DataFrame.shape gives you a tuple representing the dimensions (rows and columns) of the DataFrame.\n",
    "\n",
    "\n",
    "\n",
    "\n",
    "\n"
   ]
  },
  {
   "cell_type": "markdown",
   "id": "51e596ed",
   "metadata": {},
   "source": [
    "6.Which function of pandas do we use to read an excel file?"
   ]
  },
  {
   "cell_type": "code",
   "execution_count": null,
   "id": "d60f7aaf",
   "metadata": {},
   "outputs": [],
   "source": [
    "To read an Excel file in Pandas, you can use the pd.read_excel() function. This function allows you to read data from an Excel file and create a Pandas DataFrame.\n",
    "\n",
    "Here's how you can use it:\n",
    "\n",
    "\n",
    "import pandas as pd\n",
    "\n",
    "# Read an Excel file into a DataFrame\n",
    "df = pd.read_excel('file.xlsx')\n",
    "\n",
    "# Print the DataFrame\n",
    "print(df)\n",
    "Replace 'file.xlsx' with the path to your actual Excel file. The pd.read_excel() function is quite flexible and offers various optional parameters to customize how you read the data, such as specifying a specific sheet name, skipping rows, selecting columns, and more. You can find more information about these parameters in the official Pandas documentation.\n",
    "\n",
    "\n",
    "\n",
    "\n"
   ]
  },
  {
   "cell_type": "markdown",
   "id": "769505ae",
   "metadata": {},
   "source": [
    "7. You have a Pandas DataFrame df that contains a column named 'Email' that contains email \n",
    "   addresses in the format 'username@domain.com'. Write a Python function that creates a new column \n",
    "   'Username' in df that contains only the username part of each email address.\n",
    "\n",
    "   The username is the part of the email address that appears before the '@' symbol. For example, if the \n",
    "   email address is 'john.doe@example.com', the 'Username' column should contain 'john.doe'. Your \n",
    "   function should extract the username from each email address and store it in the new 'Username' \n",
    "   column"
   ]
  },
  {
   "cell_type": "code",
   "execution_count": 5,
   "id": "b1d38cc7",
   "metadata": {},
   "outputs": [
    {
     "name": "stdout",
     "output_type": "stream",
     "text": [
      "                    Email    Username\n",
      "0    john.doe@example.com    john.doe\n",
      "1  priyashukl@example.com  priyashukl\n",
      "2  jane.smith@example.com  jane.smith\n"
     ]
    }
   ],
   "source": [
    "import pandas as pd\n",
    "\n",
    "def extract_username(email):\n",
    "    return email.split('@')[0]\n",
    "\n",
    "data= {'Email': ['john.doe@example.com', 'priyashukl@example.com', 'jane.smith@example.com']}\n",
    "df = pd.DataFrame(data)\n",
    "\n",
    "df['Username'] = df['Email'].apply(extract_username)\n",
    "print(df)"
   ]
  },
  {
   "cell_type": "markdown",
   "id": "2bb1b9ec",
   "metadata": {},
   "source": [
    "8. You have a Pandas DataFrame df with columns 'A', 'B', and 'C'. Write a Python function that selects \n",
    "all rows where the value in column 'A' is greater than 5 and the value in column 'B' is less than 10. The \n",
    "function should return a new DataFrame that contains only the selected rows.\n",
    "\n",
    "For example, if df contains the following values:\n",
    "\n",
    "   A   B   C\n",
    "\n",
    "0  3   5   1\n",
    "\n",
    "1  8   2   7\n",
    "\n",
    "2  6   9   4\n",
    "\n",
    "3  2   3   5\n",
    "\n",
    "4  9   1   2\n",
    "\n",
    "Your function should select the following rows:   A   B   C\n",
    "\n",
    "1  8   2   7\n",
    "\n",
    "4  9   1   2\n",
    "\n",
    "The function should return a new DataFrame that contains only the selected rows."
   ]
  },
  {
   "cell_type": "code",
   "execution_count": 11,
   "id": "e1d5663a",
   "metadata": {},
   "outputs": [
    {
     "name": "stdout",
     "output_type": "stream",
     "text": [
      "   A  B  C\n",
      "1  8  2  7\n"
     ]
    }
   ],
   "source": [
    "import pandas as pd\n",
    "\n",
    "def select_rows(df):\n",
    "    selected_rows = df[(df['A'] > 5) & (df['B'] < 10)]\n",
    "    return selected_rows\n",
    "\n",
    "# Example DataFrame\n",
    "data = {'A': [3, 8, 6, 2, 9],\n",
    "        'B': [5, 2, 9, 3, 1],\n",
    "        'C': [1, 7, 4, 5, 2]}\n",
    "df = pd.DataFrame(data)\n",
    "\n",
    "# Use the select_rows function to get the selected rows\n",
    "selected_df = select_rows(df)\n",
    "\n",
    "print(selected_df)\n"
   ]
  },
  {
   "cell_type": "markdown",
   "id": "84e09f00",
   "metadata": {},
   "source": [
    "9.  Given a Pandas DataFrame df with a column 'Values', write a Python function to calculate the mean, \n",
    "median, and standard deviation of the values in the 'Values' column"
   ]
  },
  {
   "cell_type": "code",
   "execution_count": 12,
   "id": "695b578f",
   "metadata": {},
   "outputs": [
    {
     "name": "stdout",
     "output_type": "stream",
     "text": [
      "Mean: 30.0\n",
      "Median: 30.0\n",
      "Standard Deviation: 15.811388300841896\n"
     ]
    }
   ],
   "source": [
    "import pandas as pd\n",
    "\n",
    "def calculate_stats(df):\n",
    "    mean_value = df['Values'].mean()\n",
    "    median_value = df['Values'].median()\n",
    "    std_deviation = df['Values'].std()\n",
    "    \n",
    "    return mean_value, median_value, std_deviation\n",
    "\n",
    "# Example DataFrame\n",
    "data = {'Values': [10, 20, 30, 40, 50]}\n",
    "df = pd.DataFrame(data)\n",
    "\n",
    "# Calculate statistics using the calculate_stats function\n",
    "mean, median, std = calculate_stats(df)\n",
    "\n",
    "print(\"Mean:\", mean)\n",
    "print(\"Median:\", median)\n",
    "print(\"Standard Deviation:\", std)\n"
   ]
  },
  {
   "cell_type": "markdown",
   "id": "5a9f38ad",
   "metadata": {},
   "source": [
    "10. Given a Pandas DataFrame df with a column 'Sales' and a column 'Date', write a Python function to \n",
    "create a new column 'MovingAverage' that contains the moving average of the sales for the past 7 days \n",
    "for each row in the DataFrame. The moving average should be calculated using a window of size 7 and \n",
    "should include the current day"
   ]
  },
  {
   "cell_type": "code",
   "execution_count": 1,
   "id": "589de257",
   "metadata": {},
   "outputs": [
    {
     "name": "stdout",
     "output_type": "stream",
     "text": [
      "         Date  Sales  MovingAverage\n",
      "0  2023-08-01     10      10.000000\n",
      "1  2023-08-02     15      12.500000\n",
      "2  2023-08-03     20      15.000000\n",
      "3  2023-08-04     18      15.750000\n",
      "4  2023-08-05     22      17.000000\n",
      "5  2023-08-06     17      17.000000\n",
      "6  2023-08-07     14      16.571429\n",
      "7  2023-08-08     12      16.857143\n",
      "8  2023-08-09     16      17.000000\n",
      "9  2023-08-10     18      16.714286\n",
      "10 2023-08-11     25      17.714286\n",
      "11 2023-08-12     23      17.857143\n",
      "12 2023-08-13     27      19.285714\n",
      "13 2023-08-14     30      21.571429\n",
      "14 2023-08-15     32      24.428571\n",
      "15 2023-08-16     28      26.142857\n",
      "16 2023-08-17     24      27.000000\n",
      "17 2023-08-18     22      26.571429\n",
      "18 2023-08-19     20      26.142857\n",
      "19 2023-08-20     18      24.857143\n"
     ]
    }
   ],
   "source": [
    "import pandas as pd\n",
    "\n",
    "def calculate_moving_average(df):\n",
    "    df['MovingAverage'] = df['Sales'].rolling(window=7, min_periods=1).mean()\n",
    "    return df\n",
    "\n",
    "# Example usage\n",
    "data = {'Date': pd.date_range(start='2023-08-01', periods=20),\n",
    "        'Sales': [10, 15, 20, 18, 22, 17, 14, 12, 16, 18, 25, 23, 27, 30, 32, 28, 24, 22, 20, 18]}\n",
    "\n",
    "df = pd.DataFrame(data)\n",
    "df = calculate_moving_average(df)\n",
    "print(df)\n"
   ]
  },
  {
   "cell_type": "markdown",
   "id": "175218d3",
   "metadata": {},
   "source": [
    "11.  You have a Pandas DataFrame df with a column 'Date'. Write a Python function that creates a new \n",
    "column 'Weekday' in the DataFrame. The 'Weekday' column should contain the weekday name (e.g. \n",
    "Monday, Tuesday) corresponding to each date in the 'Date' column.\n",
    "\n",
    "For example, if df contains the following values:\n",
    "\n",
    "         Date\n",
    "\n",
    "0  2023-01-01\n",
    "\n",
    "1  2023-01-02\n",
    "\n",
    "2  2023-01-03\n",
    "\n",
    "3  2023-01-04\n",
    "\n",
    "4  2023-01-05\n",
    "\n",
    "Your function should create the following DataFrame:\n",
    "\n",
    "\n",
    "         Date    Weekday\n",
    "\n",
    "0  2023-01-01    Sunday\n",
    "\n",
    "1  2023-01-02     Monday\n",
    "\n",
    "2  2023-01-03    Tuesday\n",
    "\n",
    "3  2023-01-04    Wednesday\n",
    "\n",
    "4  2023-01-05    Thursday\n",
    "\n",
    "The function should return the modified DataFrame"
   ]
  },
  {
   "cell_type": "markdown",
   "id": "aeef4baa",
   "metadata": {},
   "source": [
    "12. Given a Pandas DataFrame df with a column 'Date' that contains timestamps, write a Python \n",
    "function to select all rows where the date is between '2023-01-01' and '2023-01-31'"
   ]
  },
  {
   "cell_type": "code",
   "execution_count": 3,
   "id": "7bce0e91",
   "metadata": {},
   "outputs": [
    {
     "name": "stdout",
     "output_type": "stream",
     "text": [
      "        Date  Value\n",
      "0 2023-01-15     10\n",
      "1 2023-01-25     20\n",
      "3 2023-01-10     40\n"
     ]
    }
   ],
   "source": [
    "import pandas as pd\n",
    "\n",
    "def select_rows_between_dates(df):\n",
    "    start_date = '2023-01-01'\n",
    "    end_date = '2023-01-31'\n",
    "    mask = (df['Date'] >= start_date) & (df['Date'] <= end_date)\n",
    "    selected_rows = df[mask]\n",
    "    return selected_rows\n",
    "\n",
    "# Example usage\n",
    "data = {'Date': pd.to_datetime(['2023-01-15', '2023-01-25', '2023-02-05', '2023-01-10']),\n",
    "        'Value': [10, 20, 30, 40]}\n",
    "\n",
    "df = pd.DataFrame(data)\n",
    "selected_df = select_rows_between_dates(df)\n",
    "print(selected_df)\n"
   ]
  },
  {
   "cell_type": "markdown",
   "id": "18b3a898",
   "metadata": {},
   "source": [
    "13.To use the basic functions of pandas, what is the first and foremost necessary library that needs to \n",
    "be imported"
   ]
  },
  {
   "cell_type": "markdown",
   "id": "76c64e38",
   "metadata": {},
   "source": [
    "To use the basic functions of Pandas, you need to import the Pandas library itself. The most common convention is to import it as pd, which is often used in Pandas code examples. Here's how you import the Pandas library:\n",
    "\n",
    "\n",
    "import pandas as pd\n",
    "\n",
    "\n",
    "After importing Pandas like this, you can use its various functions and classes to work with data in a tabular form, like DataFrames and Series."
   ]
  },
  {
   "cell_type": "code",
   "execution_count": null,
   "id": "0f64934d",
   "metadata": {},
   "outputs": [],
   "source": []
  }
 ],
 "metadata": {
  "kernelspec": {
   "display_name": "Python 3 (ipykernel)",
   "language": "python",
   "name": "python3"
  },
  "language_info": {
   "codemirror_mode": {
    "name": "ipython",
    "version": 3
   },
   "file_extension": ".py",
   "mimetype": "text/x-python",
   "name": "python",
   "nbconvert_exporter": "python",
   "pygments_lexer": "ipython3",
   "version": "3.11.4"
  }
 },
 "nbformat": 4,
 "nbformat_minor": 5
}
