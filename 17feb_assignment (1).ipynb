{
 "cells": [
  {
   "cell_type": "markdown",
   "id": "c15af670-2483-4da0-87c3-96e48dce2466",
   "metadata": {},
   "source": [
    "# What is Mongodb? Explain non-relational databases in short. In which it is preferred to use Mongodb over SQL databases?"
   ]
  },
  {
   "cell_type": "markdown",
   "id": "4ceff480-3e6a-4cfd-9d76-25a296bfa347",
   "metadata": {},
   "source": [
    "MongoDB is a popular, open-source document-oriented NoSQL database that provides a flexible schema design, automatic sharding, and high availability. Instead of using tables and rows like SQL databases, MongoDB uses a flexible document model that can store data in a more natural format, such as JSON. It supports dynamic schemas, which means that you don't need to define a fixed schema before inserting data, and you can easily add or modify fields as needed.\n",
    "\n",
    "Non-relational databases, also known as NoSQL databases, are databases that don't use the traditional relational database model based on tables, rows, and columns. Instead, they use alternative data models such as key-value stores, document stores, graph databases, and column-family stores. They provide more flexibility in data modeling and scalability than SQL databases.\n",
    "\n",
    "MongoDB is preferred over SQL databases in several scenarios:\n",
    "\n",
    "Agile development: With MongoDB's dynamic schema and flexible data model, developers can easily iterate and change the schema as the application evolves, making it an ideal choice for agile development environments.\n",
    "\n",
    "Unstructured data: MongoDB is well-suited for storing and querying unstructured data such as text, images, and videos, which can be challenging to manage in traditional SQL databases.\n",
    "\n",
    "High scalability: MongoDB is highly scalable and can handle large amounts of data and traffic. It supports automatic sharding, which means that it can distribute data across multiple nodes to increase performance and capacity.\n",
    "\n",
    "Big data and analytics: MongoDB's flexible data model and ability to store and process large amounts of data make it an ideal choice for big data and analytics applications.\n",
    "\n",
    "Cloud-based applications: MongoDB is well-suited for cloud-based applications because it provides high availability, automatic scaling, and easy integration with cloud services such as AWS and Azure.\n",
    "\n",
    "In summary, MongoDB is a popular NoSQL database that provides a flexible data model, automatic sharding, and high scalability. It's preferred over SQL databases in scenarios where agile development, unstructured data, high scalability, big data and analytics, and cloud-based applications are required.\n",
    "\n"
   ]
  },
  {
   "cell_type": "code",
   "execution_count": 5,
   "id": "ea0aa006-b854-4a2f-bff2-2b575a811ec9",
   "metadata": {},
   "outputs": [],
   "source": [
    "#State and explain the features of mongodb."
   ]
  },
  {
   "cell_type": "markdown",
   "id": "9a635215-20ec-428c-a04e-ec405d172543",
   "metadata": {},
   "source": [
    "MongoDB is a document-oriented NoSQL database that provides several features that make it a popular choice among developers. Here are some of the key features of MongoDB:\n",
    "\n",
    "Flexible Data Model: MongoDB's data model is based on documents, which are flexible and can store data in a nested format. Documents are stored in collections, which are similar to tables in SQL databases. The schema is dynamic, which means that fields can be added or removed from documents without having to update the schema.\n",
    "\n",
    "High Availability: MongoDB provides high availability by replicating data across multiple nodes in a cluster. It uses replica sets to maintain multiple copies of data, and in the event of a node failure, it automatically promotes a secondary node to become the primary node.\n",
    "\n",
    "Scalability: MongoDB is horizontally scalable, which means that it can scale out by adding more nodes to a cluster. It supports sharding, which is a technique for distributing data across multiple nodes based on a shard key.\n",
    "\n",
    "Indexing: MongoDB provides flexible indexing options that allow developers to optimize query performance. It supports multiple types of indexes, including single-field, compound, geospatial, and text indexes.\n",
    "\n",
    "Aggregation: MongoDB provides powerful aggregation framework that allows developers to perform complex queries on data. It supports a wide range of operators and functions, such as $group, $match, $project, $sort, $limit, and $skip.\n",
    "\n",
    "ACID Transactions: MongoDB supports multi-document ACID transactions, which allows developers to perform atomic operations on multiple documents.\n",
    "\n",
    "GridFS: MongoDB provides GridFS, which is a specification for storing large files such as images, videos, and audio files in MongoDB. GridFS splits large files into smaller chunks and stores them as separate documents, which can be retrieved and assembled into the original file.\n",
    "\n",
    "Management and Monitoring: MongoDB provides tools for managing and monitoring MongoDB deployments. These include the MongoDB Compass GUI, which allows developers to visually explore and interact with data, and the MongoDB Cloud Manager, which provides a web-based dashboard for managing MongoDB clusters.\n",
    "\n",
    "In summary, MongoDB provides a flexible data model, high availability, scalability, indexing, aggregation, ACID transactions, GridFS, and management and monitoring tools, making it a popular choice among developers for building scalable and flexible applications.\n"
   ]
  },
  {
   "cell_type": "markdown",
   "id": "3df4d953-a79f-4527-aab9-38a3495c2594",
   "metadata": {},
   "source": [
    "#3. Write a code which to connect mongodb to python. Also, create a databse and a collection in mongodb."
   ]
  },
  {
   "cell_type": "markdown",
   "id": "c037fd3d-1aa0-4cc4-82b5-5d17fb43bf0d",
   "metadata": {},
   "source": [
    "# Import the necessary packages\n",
    "from pymongo import MongoClient\n",
    "\n",
    "# Set up the MongoDB client\n",
    "client = MongoClient('localhost', 27017)\n",
    "\n",
    "# Create a new database\n",
    "db = client['mydatabase']\n",
    "\n",
    "# Create a new collection in the database\n",
    "mycollection = db['mycollection']\n",
    "\n",
    "# Insert a document into the collection\n",
    "mycollection.insert_one({\"name\": \"John\", \"age\": 30})\n"
   ]
  },
  {
   "cell_type": "markdown",
   "id": "1d98623c-7519-4254-9e77-4e8393b81089",
   "metadata": {},
   "source": [
    "#4. Using the database and the collection created in queston no.3, write a code to insert one record, and insert many records. Use the find() and find_one() methods to print the inserted record."
   ]
  },
  {
   "cell_type": "markdown",
   "id": "d7097241-05f6-491a-aac5-8130bdf9d64f",
   "metadata": {},
   "source": [
    "mycollection.insert_one({\"name\": \"Sarah\", \"age\": 25})\n",
    "\n",
    "# Insert multiple records into the collection\n",
    "mycollection.insert_many([\n",
    "    {\"name\": \"Mike\", \"age\": 35},\n",
    "    {\"name\": \"Emily\", \"age\": 28},\n",
    "    {\"name\": \"Alex\", \"age\": 42}\n",
    "])\n",
    "\n",
    "# Find one record from the collection\n",
    "record = mycollection.find_one({\"name\": \"Sarah\"})\n",
    "print(record)\n",
    "\n",
    "# Find all records from the collection\n",
    "records = mycollection.find()\n",
    "for record in records:\n",
    "    print(record)\n",
    "Explanation:\n",
    "\n",
    "First, we insert one record into the collection using the insert_one() method and passing in a dictionary representing the document.\n",
    "Then, we insert multiple records into the collection using the insert_many() method and passing in a list of dictionaries representing the documents.\n",
    "We use the find_one() method to find one record from the collection that matches a specific query (in this case, the record with the name \"Sarah\"). The method returns a dictionary representing the document, which we store in the record variable and print.\n",
    "We use the find() method to find all records from the collection. The method returns a cursor object, which we can iterate over to print each record. In this case, we iterate over the cursor using a for loop and print each record.\n",
    "\n",
    "\n",
    "\n",
    "\n"
   ]
  },
  {
   "cell_type": "markdown",
   "id": "0b976176-ffaa-4c54-b721-aabf2c14d192",
   "metadata": {},
   "source": [
    "#5. Explain how you can use the find() method to query the mongodb database. write a simple code to demonstrate this."
   ]
  },
  {
   "cell_type": "markdown",
   "id": "b0b73a23-42e9-46c6-80bb-7bd3084325df",
   "metadata": {},
   "source": [
    "To use the find() method in MongoDB, you need to first connect to your MongoDB instance and select the database and collection you want to query.\n",
    "\n",
    "Here's a simple code example to demonstrate how to use the find() method in Python:\n",
    "\n",
    "\n",
    "from pymongo import MongoClient\n",
    "\n",
    "# connect to the MongoDB instance\n",
    "client = MongoClient(\"mongodb://localhost:27017/\")\n",
    "\n",
    "# select the database and collection\n",
    "db = client[\"mydatabase\"]\n",
    "collection = db[\"mycollection\"]\n",
    "\n",
    "# perform a find query on the collection\n",
    "query = {\"name\": \"John\"}\n",
    "results = collection.find(query)\n",
    "\n",
    "# iterate over the results\n",
    "for result in results:\n",
    "    print(result)\n",
    "In this example, we connect to a MongoDB instance running on localhost and select a database called \"mydatabase\" and a collection called \"mycollection\". We then perform a find() query to retrieve all documents where the \"name\" field is equal to \"John\". The results are returned as a cursor, which we can iterate over to print out each matching document.\n",
    "\n",
    "You can customize the query parameter to the find() method to match documents based on different criteria. For example, you can use the $gt operator to find documents where a certain field is greater than a specified value:\n",
    "\n",
    "\n",
    "query = {\"age\": {\"$gt\": 30}}\n",
    "results = collection.find(query)\n",
    "This would retrieve all documents where the \"age\" field is greater than 30. There are many other query operators available in MongoDB, which you can use to customize your find() queries.\n",
    "\n"
   ]
  },
  {
   "cell_type": "markdown",
   "id": "3ef4e60a-9c2b-4660-aeae-35b297472028",
   "metadata": {},
   "source": [
    "#6.Explain the sort() method. Give an example to demonstraeet sorting in mongodb."
   ]
  },
  {
   "cell_type": "markdown",
   "id": "600eb5d1-c848-4b6f-95ca-2329acd9f28e",
   "metadata": {},
   "source": [
    "The sort() method in MongoDB is used to sort the results of a query in either ascending or descending order based on one or more fields in the documents. You can use the sort() method with the find() method to sort the documents in the result set.\n",
    "\n",
    "The sort() method takes a document as its parameter, where each field corresponds to the field to sort on, and the value can be either 1 or -1. If the value is 1, the sort order will be ascending, and if it is -1, the sort order will be descending. You can specify multiple fields to sort on by including multiple key-value pairs in the sort document.\n",
    "\n",
    "Here's an example that demonstrates sorting in MongoDB using the sort() method:\n",
    "\n",
    "\n",
    "from pymongo import MongoClient\n",
    "\n",
    "# connect to the MongoDB instance\n",
    "client = MongoClient(\"mongodb://localhost:27017/\")\n",
    "\n",
    "# select the database and collection\n",
    "db = client[\"mydatabase\"]\n",
    "collection = db[\"mycollection\"]\n",
    "\n",
    "# perform a find query and sort the results by age in descending order\n",
    "query = {\"gender\": \"male\"}\n",
    "results = collection.find(query).sort(\"age\", -1)\n",
    "\n",
    "# iterate over the results\n",
    "for result in results:\n",
    "    print(result)\n",
    "In this example, we first connect to a MongoDB instance running on localhost and select a database called \"mydatabase\" and a collection called \"mycollection\". We then perform a find() query to retrieve all documents where the \"gender\" field is equal to \"male\". We then chain a sort() method call to the query to sort the results based on the \"age\" field in descending order.\n",
    "\n",
    "The sort() method sorts the documents based on the \"age\" field in descending order, and the results are returned as a cursor, which we can iterate over to print out each matching document.\n",
    "\n",
    "You can also sort on multiple fields by including multiple key-value pairs in the sort document. For example, to sort on both the \"age\" field in descending order and the \"name\" field in ascending order, you can pass the following document to the sort() method:\n",
    "\n",
    "\n",
    "query = {\"gender\": \"male\"}\n",
    "results = collection.find(query).sort([(\"age\", -1), (\"name\", 1)])\n",
    "This would first sort the documents based on the \"age\" field in descending order, and then sort any documents with the same \"age\" value based on the \"name\" field in ascending order\n"
   ]
  },
  {
   "cell_type": "markdown",
   "id": "6ef445f7-da3b-439d-8847-484bc953a8ad",
   "metadata": {},
   "source": [
    "#7.Explain why delete_one(), delate_many(), and drop() is used."
   ]
  },
  {
   "cell_type": "markdown",
   "id": "d4997464-7c46-46f5-b308-cb15ebadb3d8",
   "metadata": {},
   "source": [
    "In MongoDB, there are several methods that can be used to remove documents from a collection: delete_one(), delete_many(), and drop().\n",
    "\n",
    "delete_one() is used to delete a single document that matches a given query. If there are multiple documents that match the query, only the first document that is found will be deleted. Here's an example:\n",
    "\n",
    "\n",
    "from pymongo import MongoClient\n",
    "\n",
    "# connect to the MongoDB instance\n",
    "client = MongoClient(\"mongodb://localhost:27017/\")\n",
    "\n",
    "# select the database and collection\n",
    "db = client[\"mydatabase\"]\n",
    "collection = db[\"mycollection\"]\n",
    "\n",
    "# delete the first document with age=30\n",
    "query = {\"age\": 30}\n",
    "result = collection.delete_one(query)\n",
    "\n",
    "print(result.deleted_count, \"document deleted.\")\n",
    "In this example, we connect to a MongoDB instance running on localhost and select a database called \"mydatabase\" and a collection called \"mycollection\". We then call the delete_one() method on the collection and pass in a query that matches the first document with an \"age\" field equal to 30. The delete_one() method returns a DeleteResult object, which we can use to check how many documents were deleted.\n",
    "\n",
    "delete_many() is used to delete all documents that match a given query. Here's an example:\n",
    "\n",
    "\n",
    "from pymongo import MongoClient\n",
    "\n",
    "# connect to the MongoDB instance\n",
    "client = MongoClient(\"mongodb://localhost:27017/\")\n",
    "\n",
    "# select the database and collection\n",
    "db = client[\"mydatabase\"]\n",
    "collection = db[\"mycollection\"]\n",
    "\n",
    "# delete all documents with age greater than 30\n",
    "query = {\"age\": {\"$gt\": 30}}\n",
    "result = collection.delete_many(query)\n",
    "\n",
    "print(result.deleted_count, \"documents deleted.\")\n",
    "In this example, we call the delete_many() method on the collection and pass in a query that matches all documents with an \"age\" field greater than 30. The delete_many() method returns a DeleteResult object, which we can use to check how many documents were deleted.\n",
    "\n",
    "drop() is used to remove an entire collection from a database. This method permanently removes all documents and indexes from the collection, and cannot be undone. Here's an example:\n",
    "\n",
    "from pymongo import MongoClient\n",
    "\n",
    "# connect to the MongoDB instance\n",
    "client = MongoClient(\"mongodb://localhost:27017/\")\n",
    "\n",
    "# select the database and collection\n",
    "db = client[\"mydatabase\"]\n",
    "collection = db[\"mycollection\"]\n",
    "\n",
    "# drop the entire collection\n",
    "collection.drop()\n",
    "\n",
    "print(\"Collection dropped.\")\n",
    "In this example, we call the drop() method on the collection to remove the entire collection from the \"mydatabase\" database. The drop() method does not return a value, but we can print a message to confirm that the collection was dropped.\n",
    "\n",
    "In summary, delete_one() and delete_many() are used to remove documents from a collection based on a query, while drop() is used to remove an entire collection from a databas\n"
   ]
  }
 ],
 "metadata": {
  "kernelspec": {
   "display_name": "Python 3 (ipykernel)",
   "language": "python",
   "name": "python3"
  },
  "language_info": {
   "codemirror_mode": {
    "name": "ipython",
    "version": 3
   },
   "file_extension": ".py",
   "mimetype": "text/x-python",
   "name": "python",
   "nbconvert_exporter": "python",
   "pygments_lexer": "ipython3",
   "version": "3.10.8"
  }
 },
 "nbformat": 4,
 "nbformat_minor": 5
}
